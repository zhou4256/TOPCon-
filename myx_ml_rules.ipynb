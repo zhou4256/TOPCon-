{
 "cells": [
  {
   "cell_type": "code",
   "execution_count": 1,
   "id": "3d658c89",
   "metadata": {},
   "outputs": [],
   "source": [
    "import numpy as np\n",
    "import pandas as pd\n",
    "import matplotlib.pyplot as plt\n",
    "import seaborn as sns\n",
    "pd.set_option(\"display.max_columns\", None)\n"
   ]
  },
  {
   "cell_type": "code",
   "execution_count": 2,
   "id": "710f0d80",
   "metadata": {},
   "outputs": [
    {
     "name": "stdout",
     "output_type": "stream",
     "text": [
      "<class 'pandas.core.frame.DataFrame'>\n",
      "Int64Index: 405 entries, 1 to 405\n",
      "Data columns (total 21 columns):\n",
      " #   Column       Non-Null Count  Dtype  \n",
      "---  ------       --------------  -----  \n",
      " 0   电池类型         405 non-null    object \n",
      " 1   PN结位置        405 non-null    object \n",
      " 2   IBC          405 non-null    object \n",
      " 3   双面           405 non-null    object \n",
      " 4   c-Si厚度       405 non-null    object \n",
      " 5   c-Si电阻率      405 non-null    object \n",
      " 6   c-Si晶相       405 non-null    object \n",
      " 7   c-Si提拉方式     405 non-null    object \n",
      " 8   材料           405 non-null    object \n",
      " 9   制备方式         405 non-null    object \n",
      " 10  厚度           405 non-null    object \n",
      " 11  poly-Si沉积方式  405 non-null    object \n",
      " 12  poly-Si厚度    405 non-null    object \n",
      " 13  poly-Si掺杂方式  405 non-null    object \n",
      " 14  额外掺杂         405 non-null    object \n",
      " 15  晶化温度         405 non-null    object \n",
      " 16  氢化方式         405 non-null    object \n",
      " 17  VOC          405 non-null    object \n",
      " 18  JSC          405 non-null    object \n",
      " 19  FF           405 non-null    object \n",
      " 20  Efficiency   405 non-null    float64\n",
      "dtypes: float64(1), object(20)\n",
      "memory usage: 69.6+ KB\n"
     ]
    }
   ],
   "source": [
    "#读取数据\n",
    "raw_data=pd.read_excel('raw_data.xlsx',index_col=0)\n",
    "raw_data.info()"
   ]
  },
  {
   "cell_type": "code",
   "execution_count": 3,
   "id": "92676eae",
   "metadata": {},
   "outputs": [],
   "source": [
    "df=raw_data.copy()\n",
    "\n",
    "#c-Si厚度\n",
    "df['c-Si厚度']=np.where(df['c-Si厚度']=='—',np.nan,df['c-Si厚度'])\n",
    "df['c-Si厚度']=df['c-Si厚度'].astype(float)\n",
    "\n",
    "#c-Si电阻率\n",
    "df['c-Si电阻率']=np.where(df['c-Si电阻率']=='—',np.nan,df['c-Si电阻率'])\n",
    "df['c-Si电阻率']=df['c-Si电阻率'].astype(float)\n",
    "\n",
    "#厚度\n",
    "df['厚度']=np.where(df['厚度']=='—',np.nan,df['厚度'])\n",
    "df['厚度']=df['厚度'].astype(float)\n",
    "\n",
    "#poly-Si厚度\n",
    "df['poly-Si厚度']=np.where(df['poly-Si厚度']=='—',np.nan,df['poly-Si厚度'])\n",
    "df['poly-Si厚度']=df['poly-Si厚度'].astype(float)\n",
    "\n",
    "#晶化温度\n",
    "df['晶化温度']=np.where(df['晶化温度']=='—',np.nan,df['晶化温度'])\n",
    "df['晶化温度']=df['晶化温度'].astype(float)\n",
    "\n",
    "#VOC\n",
    "df['VOC']=np.where(df['VOC']=='—',np.nan,df['VOC'])\n",
    "df['VOC']=df['VOC'].astype(float)\n",
    "#JSC\n",
    "df['JSC']=np.where(df['JSC']=='—',np.nan,df['JSC'])\n",
    "df['JSC']=df['JSC'].astype(float)\n",
    "#FF\n",
    "df['FF']=np.where(df['FF']=='—',np.nan,df['FF'])\n",
    "df['FF']=df['FF'].astype(float)\n",
    "\n",
    "df_na=df.copy()\n",
    "#用平均值填充缺失值\n",
    "df['c-Si厚度']=df['c-Si厚度'].fillna(df['c-Si厚度'].mean())\n",
    "df['c-Si电阻率']=df['c-Si电阻率'].fillna(df['c-Si电阻率'].mean())\n",
    "df['厚度']=df['厚度'].fillna(df['厚度'].mean())\n",
    "df['poly-Si厚度']=df['poly-Si厚度'].fillna(df['poly-Si厚度'].mean())\n",
    "df['晶化温度']=df['晶化温度'].fillna(df['晶化温度'].mean())\n",
    "\n",
    "df['c-Si晶相']=df['c-Si晶相'].astype(str)\n",
    "#删除因变量带有缺失值的样本\n",
    "df=df.dropna(subset=['VOC','JSC','FF'])\n",
    "#删除效率低于20的样本\n",
    "#df=df[df['Efficiency']>20]\n"
   ]
  },
  {
   "cell_type": "code",
   "execution_count": null,
   "id": "17b8237f",
   "metadata": {},
   "outputs": [],
   "source": []
  },
  {
   "cell_type": "markdown",
   "id": "4810d3e2",
   "metadata": {},
   "source": [
    "# 关联规则挖掘"
   ]
  },
  {
   "cell_type": "code",
   "execution_count": 4,
   "id": "ff55944e",
   "metadata": {},
   "outputs": [
    {
     "data": {
      "text/html": [
       "<div>\n",
       "<style scoped>\n",
       "    .dataframe tbody tr th:only-of-type {\n",
       "        vertical-align: middle;\n",
       "    }\n",
       "\n",
       "    .dataframe tbody tr th {\n",
       "        vertical-align: top;\n",
       "    }\n",
       "\n",
       "    .dataframe thead th {\n",
       "        text-align: right;\n",
       "    }\n",
       "</style>\n",
       "<table border=\"1\" class=\"dataframe\">\n",
       "  <thead>\n",
       "    <tr style=\"text-align: right;\">\n",
       "      <th></th>\n",
       "      <th>电池类型</th>\n",
       "      <th>PN结位置</th>\n",
       "      <th>IBC</th>\n",
       "      <th>双面</th>\n",
       "      <th>c-Si晶相</th>\n",
       "      <th>c-Si提拉方式</th>\n",
       "      <th>材料</th>\n",
       "      <th>制备方式</th>\n",
       "      <th>poly-Si沉积方式</th>\n",
       "      <th>poly-Si掺杂方式</th>\n",
       "      <th>额外掺杂</th>\n",
       "      <th>氢化方式</th>\n",
       "      <th>Efficiency</th>\n",
       "    </tr>\n",
       "  </thead>\n",
       "  <tbody>\n",
       "    <tr>\n",
       "      <th>1</th>\n",
       "      <td>电池类型_n</td>\n",
       "      <td>PN结位置_前</td>\n",
       "      <td>IBC_否</td>\n",
       "      <td>双面_否</td>\n",
       "      <td>c-Si晶相_100</td>\n",
       "      <td>c-Si提拉方式_FZ</td>\n",
       "      <td>材料_SiOx</td>\n",
       "      <td>制备方式_HNO3</td>\n",
       "      <td>poly-Si沉积方式_—</td>\n",
       "      <td>poly-Si掺杂方式_in-situ</td>\n",
       "      <td>额外掺杂_无</td>\n",
       "      <td>氢化方式_H-rich layers</td>\n",
       "      <td>Efficiency_(20, 24]</td>\n",
       "    </tr>\n",
       "    <tr>\n",
       "      <th>2</th>\n",
       "      <td>电池类型_n</td>\n",
       "      <td>PN结位置_前</td>\n",
       "      <td>IBC_否</td>\n",
       "      <td>双面_否</td>\n",
       "      <td>c-Si晶相_100</td>\n",
       "      <td>c-Si提拉方式_FZ</td>\n",
       "      <td>材料_SiOx</td>\n",
       "      <td>制备方式_HNO3</td>\n",
       "      <td>poly-Si沉积方式_—</td>\n",
       "      <td>poly-Si掺杂方式_in-situ</td>\n",
       "      <td>额外掺杂_无</td>\n",
       "      <td>氢化方式_H-rich layers</td>\n",
       "      <td>Efficiency_(0, 20]</td>\n",
       "    </tr>\n",
       "    <tr>\n",
       "      <th>3</th>\n",
       "      <td>电池类型_n</td>\n",
       "      <td>PN结位置_前</td>\n",
       "      <td>IBC_否</td>\n",
       "      <td>双面_否</td>\n",
       "      <td>c-Si晶相_100</td>\n",
       "      <td>c-Si提拉方式_FZ</td>\n",
       "      <td>材料_SiOx</td>\n",
       "      <td>制备方式_HNO3</td>\n",
       "      <td>poly-Si沉积方式_—</td>\n",
       "      <td>poly-Si掺杂方式_in-situ</td>\n",
       "      <td>额外掺杂_无</td>\n",
       "      <td>氢化方式_H-rich layers</td>\n",
       "      <td>Efficiency_(0, 20]</td>\n",
       "    </tr>\n",
       "    <tr>\n",
       "      <th>4</th>\n",
       "      <td>电池类型_n</td>\n",
       "      <td>PN结位置_前</td>\n",
       "      <td>IBC_否</td>\n",
       "      <td>双面_否</td>\n",
       "      <td>c-Si晶相_100</td>\n",
       "      <td>c-Si提拉方式_FZ</td>\n",
       "      <td>材料_SiOx</td>\n",
       "      <td>制备方式_HNO3</td>\n",
       "      <td>poly-Si沉积方式_—</td>\n",
       "      <td>poly-Si掺杂方式_in-situ</td>\n",
       "      <td>额外掺杂_无</td>\n",
       "      <td>氢化方式_H-rich layers</td>\n",
       "      <td>Efficiency_(20, 24]</td>\n",
       "    </tr>\n",
       "    <tr>\n",
       "      <th>5</th>\n",
       "      <td>电池类型_n</td>\n",
       "      <td>PN结位置_前</td>\n",
       "      <td>IBC_否</td>\n",
       "      <td>双面_否</td>\n",
       "      <td>c-Si晶相_100</td>\n",
       "      <td>c-Si提拉方式_FZ</td>\n",
       "      <td>材料_SiOx</td>\n",
       "      <td>制备方式_HNO3</td>\n",
       "      <td>poly-Si沉积方式_—</td>\n",
       "      <td>poly-Si掺杂方式_in-situ</td>\n",
       "      <td>额外掺杂_无</td>\n",
       "      <td>氢化方式_H-rich layers</td>\n",
       "      <td>Efficiency_(20, 24]</td>\n",
       "    </tr>\n",
       "  </tbody>\n",
       "</table>\n",
       "</div>"
      ],
      "text/plain": [
       "     电池类型    PN结位置    IBC    双面      c-Si晶相     c-Si提拉方式       材料       制备方式  \\\n",
       "1  电池类型_n  PN结位置_前  IBC_否  双面_否  c-Si晶相_100  c-Si提拉方式_FZ  材料_SiOx  制备方式_HNO3   \n",
       "2  电池类型_n  PN结位置_前  IBC_否  双面_否  c-Si晶相_100  c-Si提拉方式_FZ  材料_SiOx  制备方式_HNO3   \n",
       "3  电池类型_n  PN结位置_前  IBC_否  双面_否  c-Si晶相_100  c-Si提拉方式_FZ  材料_SiOx  制备方式_HNO3   \n",
       "4  电池类型_n  PN结位置_前  IBC_否  双面_否  c-Si晶相_100  c-Si提拉方式_FZ  材料_SiOx  制备方式_HNO3   \n",
       "5  电池类型_n  PN结位置_前  IBC_否  双面_否  c-Si晶相_100  c-Si提拉方式_FZ  材料_SiOx  制备方式_HNO3   \n",
       "\n",
       "     poly-Si沉积方式          poly-Si掺杂方式    额外掺杂                氢化方式  \\\n",
       "1  poly-Si沉积方式_—  poly-Si掺杂方式_in-situ  额外掺杂_无  氢化方式_H-rich layers   \n",
       "2  poly-Si沉积方式_—  poly-Si掺杂方式_in-situ  额外掺杂_无  氢化方式_H-rich layers   \n",
       "3  poly-Si沉积方式_—  poly-Si掺杂方式_in-situ  额外掺杂_无  氢化方式_H-rich layers   \n",
       "4  poly-Si沉积方式_—  poly-Si掺杂方式_in-situ  额外掺杂_无  氢化方式_H-rich layers   \n",
       "5  poly-Si沉积方式_—  poly-Si掺杂方式_in-situ  额外掺杂_无  氢化方式_H-rich layers   \n",
       "\n",
       "            Efficiency  \n",
       "1  Efficiency_(20, 24]  \n",
       "2   Efficiency_(0, 20]  \n",
       "3   Efficiency_(0, 20]  \n",
       "4  Efficiency_(20, 24]  \n",
       "5  Efficiency_(20, 24]  "
      ]
     },
     "execution_count": 4,
     "metadata": {},
     "output_type": "execute_result"
    }
   ],
   "source": [
    "#选择类别变量和Efficiency\n",
    "\n",
    "cols=['电池类型','PN结位置','IBC','双面','c-Si晶相','c-Si提拉方式','材料',\n",
    "               '制备方式','poly-Si沉积方式','poly-Si掺杂方式','额外掺杂','氢化方式']+['Efficiency']\n",
    "df2=df[cols].copy()\n",
    "#对Efficiency按照20以下低 20-24中 24以上高进行分组\n",
    "df2['Efficiency']=pd.cut(df2['Efficiency'],bins=[0,20,24,27]).astype(str)\n",
    "#对每列的值标注列名称\n",
    "for col in df2.columns:\n",
    "    df2[col]=col+'_'+df2[col]\n",
    "df2.head()"
   ]
  },
  {
   "cell_type": "code",
   "execution_count": 5,
   "id": "0f38c9fb",
   "metadata": {},
   "outputs": [],
   "source": [
    "#!pip install efficient-apriori -i https://pypi.tuna.tsinghua.edu.cn/simple\n",
    "from efficient_apriori import apriori\n",
    "\n",
    "#将数据转换为transaction类型\n",
    "transactions=[]\n",
    "for i in range(len(df2)):\n",
    "    transactions.append(tuple(df2.iloc[i]))"
   ]
  },
  {
   "cell_type": "code",
   "execution_count": 6,
   "id": "e3843c1d",
   "metadata": {},
   "outputs": [],
   "source": [
    "itemsets,rules=apriori(transactions,min_support=0.2,min_confidence=0.7)"
   ]
  },
  {
   "cell_type": "code",
   "execution_count": 13,
   "id": "7aa6e295",
   "metadata": {},
   "outputs": [],
   "source": [
    "#将规则写入数据框\n",
    "#左项\n",
    "lhs=[]\n",
    "#右项\n",
    "rhs=[]\n",
    "#支持度\n",
    "support=[]\n",
    "#规则的长度\n",
    "rule_len=[]\n",
    "#置信度\n",
    "confidence=[]\n",
    "#提升度\n",
    "lift=[]\n",
    "#规则在transactions中出现的次数\n",
    "count=[]\n",
    "for rule in rules:\n",
    "    #找出右项包含Efficiency的规则\n",
    "    if 'Efficiency' in ''.join(rule.rhs) and len(rule.rhs)==1:         \n",
    "        lhs.append(rule.lhs)    \n",
    "        rhs.append(rule.rhs)\n",
    "        support.append(rule.support)\n",
    "        rule_len.append(len(rule))\n",
    "        confidence.append(rule.confidence)\n",
    "        lift.append(rule.lift)  \n",
    "        count.append(rule.count_full)\n",
    "\n",
    "rules_df=pd.DataFrame({'lhs':lhs,\n",
    "                       'rhs':rhs,\n",
    "                       'support':support,\n",
    "                       'confidence':confidence,\n",
    "                       'lift':lift,\n",
    "                       'count':count,\n",
    "                       'rule_len':rule_len})\n",
    "#对规则按照提升度从高到底进行排序\n",
    "rules_df.sort_values(by='lift',ascending=False,inplace=True)\n",
    "#将rules_df输出到excel文件\n",
    "rules_df.to_excel('rules_df.xlsx',index=False)"
   ]
  },
  {
   "cell_type": "code",
   "execution_count": 24,
   "id": "bd415249",
   "metadata": {},
   "outputs": [
    {
     "data": {
      "text/html": [
       "<div>\n",
       "<style scoped>\n",
       "    .dataframe tbody tr th:only-of-type {\n",
       "        vertical-align: middle;\n",
       "    }\n",
       "\n",
       "    .dataframe tbody tr th {\n",
       "        vertical-align: top;\n",
       "    }\n",
       "\n",
       "    .dataframe thead th {\n",
       "        text-align: right;\n",
       "    }\n",
       "</style>\n",
       "<table border=\"1\" class=\"dataframe\">\n",
       "  <thead>\n",
       "    <tr style=\"text-align: right;\">\n",
       "      <th></th>\n",
       "      <th>lhs</th>\n",
       "      <th>rhs</th>\n",
       "      <th>support</th>\n",
       "      <th>confidence</th>\n",
       "      <th>lift</th>\n",
       "      <th>count</th>\n",
       "      <th>rule_len</th>\n",
       "    </tr>\n",
       "  </thead>\n",
       "  <tbody>\n",
       "    <tr>\n",
       "      <th>92</th>\n",
       "      <td>(IBC_否, c-Si晶相_—, 双面_否)</td>\n",
       "      <td>(Efficiency_(20, 24],)</td>\n",
       "      <td>0.338308</td>\n",
       "      <td>0.871795</td>\n",
       "      <td>1.279057</td>\n",
       "      <td>136</td>\n",
       "      <td>4</td>\n",
       "    </tr>\n",
       "    <tr>\n",
       "      <th>311</th>\n",
       "      <td>(IBC_否, c-Si晶相_—, 双面_否, 额外掺杂_无)</td>\n",
       "      <td>(Efficiency_(20, 24],)</td>\n",
       "      <td>0.315920</td>\n",
       "      <td>0.869863</td>\n",
       "      <td>1.276222</td>\n",
       "      <td>127</td>\n",
       "      <td>5</td>\n",
       "    </tr>\n",
       "    <tr>\n",
       "      <th>107</th>\n",
       "      <td>(IBC_否, poly-Si沉积方式_LPCVD, 双面_否)</td>\n",
       "      <td>(Efficiency_(20, 24],)</td>\n",
       "      <td>0.328358</td>\n",
       "      <td>0.868421</td>\n",
       "      <td>1.274107</td>\n",
       "      <td>132</td>\n",
       "      <td>4</td>\n",
       "    </tr>\n",
       "  </tbody>\n",
       "</table>\n",
       "</div>"
      ],
      "text/plain": [
       "                                  lhs                     rhs   support  \\\n",
       "92            (IBC_否, c-Si晶相_—, 双面_否)  (Efficiency_(20, 24],)  0.338308   \n",
       "311   (IBC_否, c-Si晶相_—, 双面_否, 额外掺杂_无)  (Efficiency_(20, 24],)  0.315920   \n",
       "107  (IBC_否, poly-Si沉积方式_LPCVD, 双面_否)  (Efficiency_(20, 24],)  0.328358   \n",
       "\n",
       "     confidence      lift  count  rule_len  \n",
       "92     0.871795  1.279057    136         4  \n",
       "311    0.869863  1.276222    127         5  \n",
       "107    0.868421  1.274107    132         4  "
      ]
     },
     "execution_count": 24,
     "metadata": {},
     "output_type": "execute_result"
    }
   ],
   "source": [
    "rules_df.head(3)"
   ]
  },
  {
   "cell_type": "code",
   "execution_count": 21,
   "id": "6031e371",
   "metadata": {},
   "outputs": [
    {
     "data": {
      "text/plain": [
       "156"
      ]
     },
     "execution_count": 21,
     "metadata": {},
     "output_type": "execute_result"
    }
   ],
   "source": [
    "((df2['IBC']=='IBC_否') & (df2['c-Si晶相']=='c-Si晶相_—') & (df2['双面']=='双面_否')).sum()"
   ]
  },
  {
   "cell_type": "code",
   "execution_count": 22,
   "id": "ea46555f",
   "metadata": {},
   "outputs": [
    {
     "data": {
      "text/plain": [
       "136"
      ]
     },
     "execution_count": 22,
     "metadata": {},
     "output_type": "execute_result"
    }
   ],
   "source": [
    "((df2['IBC']=='IBC_否') & (df2['c-Si晶相']=='c-Si晶相_—') & (df2['双面']=='双面_否') &(df2['Efficiency']=='Efficiency_(20, 24]')).sum()"
   ]
  },
  {
   "cell_type": "markdown",
   "id": "0c1993d7",
   "metadata": {},
   "source": [
    "## 规则含义说明"
   ]
  },
  {
   "cell_type": "markdown",
   "id": "98ee94f2",
   "metadata": {},
   "source": [
    "第一条关联规则说明：\n",
    "(IBC_否, c-Si晶相_—, 双面_否)->(Efficiency_(20, 24],)\n",
    "X->Y，X表示规则的左项，Y表示规则的右项，\n",
    "这里X是(IBC_否, c-Si晶相_—, 双面_否)，Y是(Efficiency_(20, 24],)\n",
    "\n",
    "支持度support=0.338,就是说P(X,Y)=0.338;\n",
    "置信度confidence=0.87  , P(Y|X)=0.87;\n",
    "提升度lift=P(Y|X)/P(Y)=1.27;\n",
    "\n",
    "含义为：\n",
    "在IBC=否 且 c-Si晶相= — 且 双面=否时，Efficiency有87%的可能性为(20, 24]。\n",
    "在IBC=否 且 c-Si晶相= — 且 双面=否时，Efficiency为(20, 24]的概率是一般情况下Efficiency为(20, 24]的概率的1.27倍。\n"
   ]
  },
  {
   "cell_type": "code",
   "execution_count": 15,
   "id": "b2409fc8",
   "metadata": {},
   "outputs": [
    {
     "data": {
      "text/plain": [
       "(970, 7)"
      ]
     },
     "execution_count": 15,
     "metadata": {},
     "output_type": "execute_result"
    }
   ],
   "source": [
    "rules_df.shape"
   ]
  },
  {
   "cell_type": "code",
   "execution_count": 18,
   "id": "11b42cb0",
   "metadata": {},
   "outputs": [
    {
     "data": {
      "text/plain": [
       "Efficiency_(20, 24]    274\n",
       "Efficiency_(0, 20]      98\n",
       "Efficiency_(24, 27]     30\n",
       "Name: Efficiency, dtype: int64"
      ]
     },
     "execution_count": 18,
     "metadata": {},
     "output_type": "execute_result"
    }
   ],
   "source": [
    "df2['Efficiency'].value_counts()"
   ]
  },
  {
   "cell_type": "code",
   "execution_count": null,
   "id": "bc461aea",
   "metadata": {},
   "outputs": [],
   "source": []
  },
  {
   "cell_type": "code",
   "execution_count": null,
   "id": "a67678b2",
   "metadata": {},
   "outputs": [],
   "source": []
  },
  {
   "cell_type": "code",
   "execution_count": null,
   "id": "95b8f6df",
   "metadata": {},
   "outputs": [],
   "source": []
  },
  {
   "cell_type": "code",
   "execution_count": null,
   "id": "925027a2",
   "metadata": {},
   "outputs": [],
   "source": []
  },
  {
   "cell_type": "code",
   "execution_count": null,
   "id": "4614b9db",
   "metadata": {},
   "outputs": [],
   "source": []
  },
  {
   "cell_type": "code",
   "execution_count": null,
   "id": "bcab7f2a",
   "metadata": {},
   "outputs": [],
   "source": []
  },
  {
   "cell_type": "code",
   "execution_count": null,
   "id": "34c49db5",
   "metadata": {},
   "outputs": [],
   "source": []
  },
  {
   "cell_type": "code",
   "execution_count": null,
   "id": "25eac0c4",
   "metadata": {},
   "outputs": [],
   "source": []
  }
 ],
 "metadata": {
  "kernelspec": {
   "display_name": "Python 3 (ipykernel)",
   "language": "python",
   "name": "python3"
  },
  "language_info": {
   "codemirror_mode": {
    "name": "ipython",
    "version": 3
   },
   "file_extension": ".py",
   "mimetype": "text/x-python",
   "name": "python",
   "nbconvert_exporter": "python",
   "pygments_lexer": "ipython3",
   "version": "3.9.12"
  }
 },
 "nbformat": 4,
 "nbformat_minor": 5
}
